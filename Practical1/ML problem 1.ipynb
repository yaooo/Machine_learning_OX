{
 "cells": [
  {
   "cell_type": "code",
   "execution_count": 1,
   "metadata": {},
   "outputs": [],
   "source": [
    "import numpy as np\n",
    "from numpy.linalg import inv\n",
    "import _pickle as cp\n",
    "import matplotlib.pyplot as plt"
   ]
  },
  {
   "cell_type": "code",
   "execution_count": 2,
   "metadata": {},
   "outputs": [],
   "source": [
    "X, y = cp.load(open('winequality-white.pickle', 'rb'))"
   ]
  },
  {
   "cell_type": "code",
   "execution_count": 3,
   "metadata": {},
   "outputs": [],
   "source": [
    "N, D = X.shape\n",
    "N_train = int(0.8 * N)\n",
    "N_test = N - N_train\n",
    "X_train = X[:N_train]\n",
    "y_train = y[:N_train]\n",
    "X_test = X[N_train:]\n",
    "y_test = y[N_train:]"
   ]
  },
  {
   "cell_type": "markdown",
   "metadata": {},
   "source": [
    "## Handin 1"
   ]
  },
  {
   "cell_type": "code",
   "execution_count": 4,
   "metadata": {
    "scrolled": false
   },
   "outputs": [
    {
     "data": {
      "image/png": "[encoded data removed]",
      "text/plain": [
       "<Figure size 432x288 with 1 Axes>"
      ]
     },
     "metadata": {
      "needs_background": "light"
     },
     "output_type": "display_data"
    }
   ],
   "source": [
    "def categorize(train):\n",
    "    hist = {}\n",
    "    for i in train:\n",
    "        hist[i] = hist.get(i, 0) + 1\n",
    "    return hist\n",
    "\n",
    "count = categorize(y_train)\n",
    "plt.bar(count.keys(), count.values())\n",
    "plt.title('Distribution of y values appearing in the training set')\n",
    "plt.show()"
   ]
  },
  {
   "cell_type": "markdown",
   "metadata": {},
   "source": [
    "## Handin 2"
   ]
  },
  {
   "cell_type": "code",
   "execution_count": 5,
   "metadata": {},
   "outputs": [
    {
     "name": "stdout",
     "output_type": "stream",
     "text": [
      "Eorror on the training dataset 0.7767772386501117\n",
      "Eorror on the testing dataset 0.8138573000045535\n"
     ]
    }
   ],
   "source": [
    "average_y_train = np.mean(y_train)\n",
    "\n",
    "def mseError(predictor, y):\n",
    "    y = y - predictor\n",
    "    y = y * y\n",
    "    return np.sum(y)/len(y)\n",
    "\n",
    "print(\"Eorror on the training dataset\", mseError(average_y_train, y_train))\n",
    "print(\"Eorror on the testing dataset\", mseError(average_y_train, y_test))\n"
   ]
  },
  {
   "cell_type": "markdown",
   "metadata": {},
   "source": [
    "## Handin 3"
   ]
  },
  {
   "cell_type": "code",
   "execution_count": 6,
   "metadata": {},
   "outputs": [],
   "source": [
    "def standarlize(x):\n",
    "    var = np.var(x)\n",
    "    mean = np.mean(x)\n",
    "    return (mean, var)\n",
    "\n",
    "def transformData(x, mean, var):\n",
    "    x -= mean\n",
    "    x /= np.sqrt(var)\n",
    "    return x\n",
    "\n",
    "def find_weight(X, y):\n",
    "    X_trans = X.T\n",
    "    return np.matmul(np.matmul(inv(np.matmul(X_trans, X)), X_trans), y)"
   ]
  },
  {
   "cell_type": "code",
   "execution_count": 7,
   "metadata": {},
   "outputs": [
    {
     "name": "stdout",
     "output_type": "stream",
     "text": [
      "training: mean = -8.342257745013938e-16 var = 1.0\n",
      "Testing: mean = 0.003052784603897342 var = 1.0559133327466625\n",
      "training: mean = -3.808422014028102e-17 var = 1.0\n",
      "Testing: mean = -0.007511859999128254 var = 1.1233168622542755\n",
      "training: mean = -1.6684515490027876e-16 var = 1.0\n",
      "Testing: mean = -0.0282096421779161 var = 0.741905848945599\n",
      "training: mean = 6.619400167239321e-17 var = 1.0000000000000002\n",
      "Testing: mean = -0.03437040308176067 var = 1.01439428211428\n",
      "training: mean = -3.899098728647819e-16 var = 1.0000000000000002\n",
      "Testing: mean = -0.011299108564615985 var = 1.0831531580187885\n",
      "training: mean = -6.34737002338017e-18 var = 0.9999999999999996\n",
      "Testing: mean = -0.005327945753180026 var = 0.9445614430786272\n",
      "training: mean = -1.4689627768394107e-16 var = 1.0\n",
      "Testing: mean = -0.017991526288517717 var = 1.022899496018027\n",
      "training: mean = 2.1566549805153423e-14 var = 0.9999999999999999\n",
      "Testing: mean = -0.0223959733862736 var = 1.0361602306269686\n",
      "training: mean = -2.141783999317709e-15 var = 0.9999999999999998\n",
      "Testing: mean = 0.059708971629859185 var = 1.0664289520416235\n",
      "training: mean = 3.9897754432675354e-16 var = 1.0000000000000002\n",
      "Testing: mean = 0.03499859792244825 var = 1.0987830603456172\n",
      "training: mean = 4.787730531921043e-16 var = 1.0000000000000002\n",
      "Testing: mean = 0.010960253895341361 var = 1.0418353212866018\n"
     ]
    }
   ],
   "source": [
    "# Placeholder for the standalized data\n",
    "X_train_standard = np.zeros(shape = X_train.shape)\n",
    "X_test_standard = np.zeros(shape = X_test.shape)\n",
    "\n",
    "\n",
    "# For each feature, calculate for mean and std, transform the data for both test/train\n",
    "for i in range(D):\n",
    "    train_data = X_train[:, i]\n",
    "    test_data = X_test[:, i]\n",
    "    \n",
    "    m,v = standarlize(train_data)\n",
    "    \n",
    "    X_train_standard[:, i] = transformData(train_data, m, v)\n",
    "    X_test_standard[:, i] = transformData(test_data, m, v)\n",
    "    \n",
    "    print(\"training: mean =\", np.mean(X_train_standard[:, i]), \"var =\", np.var(X_train_standard[:, i]))\n",
    "    print(\"Testing: mean =\", np.mean(X_test_standard[:, i]), \"var =\", np.var(X_test_standard[:, i]))\n"
   ]
  },
  {
   "cell_type": "code",
   "execution_count": 8,
   "metadata": {},
   "outputs": [
    {
     "name": "stdout",
     "output_type": "stream",
     "text": [
      "Eorror on the training dataset 0.5639996173941924\n",
      "Eorror on the testing dataset 0.5639996173941924\n"
     ]
    }
   ],
   "source": [
    "# Include a column of ones to data matrices\n",
    "b_training = np.ones((N_train,1))\n",
    "b_test = np.ones((N_test,1))\n",
    "b_tot = np.ones((N,1))\n",
    "\n",
    "new_X_train_standard = np.hstack((b_training, X_train_standard))\n",
    "new_X_test_standard = np.hstack((b_test, X_test_standard))\n",
    "\n",
    "weights = find_weight(new_X_train_standard, y_train)\n",
    "\n",
    "# Expected y\n",
    "y_train_expected = np.dot(new_X_train_standard, weights)\n",
    "y_test_expected = np.dot(new_X_test_standard, weights)\n",
    "\n",
    "print(\"Eorror on the training dataset\", mseError(y_train_expected, y_train))\n",
    "print(\"Eorror on the testing dataset\", mseError(y_train_expected, y_train))\n"
   ]
  },
  {
   "cell_type": "markdown",
   "metadata": {},
   "source": [
    "## Handin 4 Learning Curve"
   ]
  },
  {
   "cell_type": "code",
   "execution_count": 9,
   "metadata": {},
   "outputs": [],
   "source": [
    "def FirstNmseError(predictor, y, N):\n",
    "    t = y[0:N] - predictor[0:N]\n",
    "    t = t * t\n",
    "    return np.sum(t)/len(t)"
   ]
  },
  {
   "cell_type": "code",
   "execution_count": 10,
   "metadata": {},
   "outputs": [
    {
     "data": {
      "image/png": "[encoded data removed]",
      "text/plain": [
       "<Figure size 432x288 with 1 Axes>"
      ]
     },
     "metadata": {
      "needs_background": "light"
     },
     "output_type": "display_data"
    }
   ],
   "source": [
    "train_error = []\n",
    "test_error = []\n",
    "\n",
    "for i in range(20, 601, 20):\n",
    "    weights = find_weight(new_X_train_standard[:i], y_train[:i])\n",
    "\n",
    "    # Expected y\n",
    "    y_train_expected = np.dot(new_X_train_standard[:i], weights)\n",
    "    y_test_expected = np.dot(new_X_test_standard, weights)\n",
    "    \n",
    "    train_error.append(FirstNmseError(y_train_expected, y_train, i))\n",
    "    test_error.append(mseError(y_test_expected, y_test))\n",
    "    \n",
    "mat1 = np.array(train_error)\n",
    "mat2 = np.array(test_error)\n",
    "\n",
    "plt.figure()\n",
    "plt.title('Learning curve')\n",
    "plt.xlabel(\"Sample Size\")\n",
    "plt.ylabel('Error')\n",
    "plt.plot(np.linspace(20,600, num=mat1.shape[0]), mat1, label='MSE Training Data')\n",
    "plt.plot(np.linspace(20,600, num=mat2.shape[0]), mat2, label='MSE Test Data')\n",
    "plt.legend()\n",
    "plt.show()"
   ]
  },
  {
   "cell_type": "markdown",
   "metadata": {},
   "source": [
    "# Optional"
   ]
  },
  {
   "cell_type": "code",
   "execution_count": 11,
   "metadata": {},
   "outputs": [],
   "source": [
    "from sklearn import linear_model\n",
    "from sklearn.preprocessing import StandardScaler, PolynomialFeatures\n",
    "from sklearn.model_selection import train_test_split\n",
    "from sklearn.pipeline import make_pipeline\n",
    "from sklearn.metrics import mean_squared_error\n",
    "from scipy.stats import mode\n",
    "\n",
    "N, D = X.shape\n",
    "X_train_val, X_test, y_train_val, y_test = train_test_split(X, y, test_size=0.8)\n",
    "ridge_pipeline = make_pipeline(StandardScaler(), PolynomialFeatures(2, include_bias=True), linear_model.Ridge())\n",
    "lasso_pipeline = make_pipeline(StandardScaler(), PolynomialFeatures(2), linear_model.Lasso())"
   ]
  },
  {
   "cell_type": "code",
   "execution_count": 12,
   "metadata": {},
   "outputs": [
    {
     "name": "stdout",
     "output_type": "stream",
     "text": [
      "Best alpha for ridge model: 100\n",
      "Best alpha for lasso model: 0.1\n"
     ]
    }
   ],
   "source": [
    "# Ridge model\n",
    "ridge_alpha = 0.01\n",
    "lasso_alpha = 0.01\n",
    "\n",
    "choice = [0.01, 0.1, 1, 10, 100]\n",
    "ridge_score = np.zeros(5)\n",
    "lasso_score = np.zeros(5)\n",
    "\n",
    "for _ in range(10):\n",
    "    X_train, X_validate, y_train, y_validate = train_test_split(X_train_val, y_train_val, test_size=0.8)\n",
    "    for i in range(5):\n",
    "        ridge_pipeline.set_params(ridge__alpha=choice[i])        \n",
    "        ridge_pipeline.fit(X_train, y_train)\n",
    "        s = ridge_pipeline.score(X_validate,y_validate)\n",
    "#         print(\"lambda\", choice[i], \"score\", s)\n",
    "        ridge_score[i] += s\n",
    "        \n",
    "        lasso_pipeline.set_params(lasso__alpha=choice[i])\n",
    "        lasso_pipeline.fit(X_train, y_train)\n",
    "        s = lasso_pipeline.score(X_validate,y_validate)\n",
    "#         print(\"lambda\", choice[i], \"score\", s)\n",
    "        lasso_score[i] += s\n",
    "        \n",
    "print(\"Best alpha for ridge model:\", choice[np.argmax(ridge_score)])\n",
    "print(\"Best alpha for lasso model:\", choice[np.argmax(lasso_score)])"
   ]
  },
  {
   "cell_type": "code",
   "execution_count": 13,
   "metadata": {},
   "outputs": [
    {
     "data": {
      "text/plain": [
       "Pipeline(memory=None,\n",
       "     steps=[('standardscaler', StandardScaler(copy=True, with_mean=True, with_std=True)), ('polynomialfeatures', PolynomialFeatures(degree=2, include_bias=True, interaction_only=False)), ('lasso', Lasso(alpha=0.1, copy_X=True, fit_intercept=True, max_iter=1000,\n",
       "   normalize=False, positive=False, precompute=False, random_state=None,\n",
       "   selection='cyclic', tol=0.0001, warm_start=False))])"
      ]
     },
     "execution_count": 13,
     "metadata": {},
     "output_type": "execute_result"
    }
   ],
   "source": [
    "ridge_pipeline.set_params(ridge__alpha=choice[np.argmax(ridge_score)])\n",
    "lasso_pipeline.set_params(lasso__alpha=choice[np.argmax(lasso_score)])\n",
    "\n",
    "ridge_pipeline.fit(X_train_val, y_train_val)\n",
    "lasso_pipeline.fit(X_train_val, y_train_val)"
   ]
  },
  {
   "cell_type": "code",
   "execution_count": 14,
   "metadata": {},
   "outputs": [
    {
     "name": "stdout",
     "output_type": "stream",
     "text": [
      "Error on Training data set with Ridge : 0.4134453519923849\n",
      "Error on Testting data set with Ridge : 0.6362414670332428\n",
      "\n",
      "Error on Training data set with Lasso : 0.5213861832957443\n",
      "Error on Testting data set with Lasso : 0.641977779268466\n"
     ]
    }
   ],
   "source": [
    "def error(pipeline, x, y, name, ifTraining):\n",
    "    y_true = y\n",
    "    y_pred = pipeline.predict(x)\n",
    "    error = mean_squared_error(y_true, y_pred)\n",
    "    if ifTraining:\n",
    "        print(\"Error on Training data set with\", name, \":\", error)\n",
    "    else:\n",
    "        print(\"Error on Testting data set with\", name, \":\", error)\n",
    "\n",
    "error(ridge_pipeline, X_train_val, y_train_val, \"Ridge\", True)\n",
    "error(ridge_pipeline, X_test, y_test, \"Ridge\", False)\n",
    "\n",
    "print()\n",
    "error(lasso_pipeline, X_train_val, y_train_val, \"Lasso\", True)\n",
    "error(lasso_pipeline, X_test, y_test, \"Lasso\", False)\n"
   ]
  },
  {
   "cell_type": "code",
   "execution_count": null,
   "metadata": {},
   "outputs": [],
   "source": []
  }
 ],
 "metadata": {
  "kernelspec": {
   "display_name": "Python 3",
   "language": "python",
   "name": "python3"
  },
  "language_info": {
   "codemirror_mode": {
    "name": "ipython",
    "version": 3
   },
   "file_extension": ".py",
   "mimetype": "text/x-python",
   "name": "python",
   "nbconvert_exporter": "python",
   "pygments_lexer": "ipython3",
   "version": "3.6.9"
  }
 },
 "nbformat": 4,
 "nbformat_minor": 2
}
