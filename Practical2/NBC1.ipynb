{
 "cells": [
  {
   "cell_type": "code",
   "execution_count": 1,
   "metadata": {},
   "outputs": [],
   "source": [
    "import numpy as np\n",
    "from scipy import stats"
   ]
  },
  {
   "cell_type": "code",
   "execution_count": 2,
   "metadata": {},
   "outputs": [],
   "source": [
    "class NBC:\n",
    "\n",
    "    def __init__(self, feature_types, num_classes):\n",
    "        self.feature_types = np.array(feature_types)\n",
    "        self.num_classes = num_classes\n",
    "\n",
    "    def fit(self, X, y):\n",
    "\n",
    "        self.pi = []\n",
    "        self.mean = []\n",
    "        self.std = []\n",
    "        self.ber = []\n",
    "        \n",
    "        for c in range(self.num_classes):\n",
    "            # select the rows based on c\n",
    "            Xc = X[np.flatnonzero(y == c)]\n",
    "            self.pi.append(len(Xc) / len(y))\n",
    "            \n",
    "            Xcr = Xc[:, np.flatnonzero(self.feature_types == 'r')]\n",
    "            \n",
    "            # Find the mean of the x\n",
    "            if Xcr.size == 0:\n",
    "                self.mean.append([])\n",
    "            else:\n",
    "                self.mean.append(np.mean(Xcr, axis=0))\n",
    "            \n",
    "            self.std.append(np.clip(np.std(Xcr, axis=0), 1e-6, None))\n",
    "\n",
    "            Xcb = Xc[:, np.flatnonzero(self.feature_types == 'b')]\n",
    "            self.ber.append((np.sum(Xcb, axis=0) + 1) / (len(Xcb) + 2))\n",
    "\n",
    "    def predict(self, X):\n",
    "        # n x 1 array for y hat\n",
    "        y_hat = np.repeat(np.reshape(self.pi, (-1, 1)), len(X), axis=1)\n",
    "        \n",
    "        \n",
    "        for c in range(self.num_classes):\n",
    "\n",
    "            Xr = X[:, np.flatnonzero(self.feature_types == 'r')]\n",
    "            logr = np.sum(stats.norm.logpdf(Xr, self.mean[c], self.std[c]), axis=1)\n",
    "\n",
    "            Xb = X[:, np.flatnonzero(self.feature_types == 'b')]\n",
    "            logb = np.sum(stats.bernoulli.logpmf(Xb, self.ber[c]), axis=1)\n",
    "\n",
    "            y_hat[c] += logr + logb\n",
    "\n",
    "        return np.argmax(y_hat, axis=0)\n",
    "            "
   ]
  },
  {
   "cell_type": "code",
   "execution_count": 3,
   "metadata": {},
   "outputs": [
    {
     "data": {
      "text/plain": [
       "2"
      ]
     },
     "execution_count": 3,
     "metadata": {},
     "output_type": "execute_result"
    }
   ],
   "source": [
    "pi = [1,2,3]\n",
    "y_hat = np.reshape(pi, (-1, 1))\n",
    "y_hat[2]+=10\n",
    "y_hat\n",
    "np.argmax(y_hat)"
   ]
  },
  {
   "cell_type": "code",
   "execution_count": 4,
   "metadata": {},
   "outputs": [],
   "source": [
    "from sklearn.linear_model import LogisticRegression\n",
    "import matplotlib.pyplot as plt\n",
    "\n",
    "def learn(X, y, nbc, lr):\n",
    "\n",
    "    num_classes = np.unique(y).size\n",
    "    N, _ = X.shape\n",
    "    N_train = int(0.8 * N)\n",
    "    N_step = int(N / 50)\n",
    "    N_range = range(int(N / 25), N + 1, N_step)\n",
    "    N_percent = np.array(N_range) * 100 / N\n",
    "\n",
    "    error_rates_nbc = []\n",
    "#     error_rates_lr = []\n",
    "\n",
    "    for _ in range(1000):\n",
    "\n",
    "        while True:\n",
    "\n",
    "            error_rates_nbc_round = []\n",
    "#             error_rates_lr_round = []\n",
    "\n",
    "            shuffler = np.random.permutation(N)\n",
    "            X_train, X_test = X[shuffler[:N_train]], X[shuffler[N_train:]]\n",
    "            y_train, y_test = y[shuffler[:N_train]], y[shuffler[N_train:]]\n",
    "\n",
    "            if np.unique(y_train[:N_step]).size != num_classes:\n",
    "                continue\n",
    "\n",
    "            for n in N_range:\n",
    "\n",
    "                nbc.fit(X_train[:n], y_train[:n])\n",
    "#                 lr.fit(X_train[:n], y_train[:n])\n",
    "\n",
    "                y_hat_nbc = nbc.predict(X_test)\n",
    "#                 y_hat_lr = lr.predict(X_test)\n",
    "\n",
    "                error_rates_nbc_round.append(np.mean(y_hat_nbc != y_test))\n",
    "#                 error_rates_lr_round.append(np.mean(y_hat_lr != y_test))\n",
    "\n",
    "            break\n",
    "\n",
    "        error_rates_nbc.append(error_rates_nbc_round)\n",
    "#         error_rates_lr.append(error_rates_lr_round)\n",
    "\n",
    "    error_rates_nbc = np.mean(error_rates_nbc, axis=0)\n",
    "#     error_rates_lr = np.mean(error_rates_lr, axis=0)\n",
    "\n",
    "    plt.plot(N_percent, error_rates_nbc, 'r-')\n",
    "#     plt.plot(N_percent, error_rates_lr, 'b-')\n",
    "    \n",
    "    plt.xlabel('% of Training Set')\n",
    "    plt.ylabel('Error Rate')\n",
    "    plt.legend(['NBC', 'Logistic Regression'])\n",
    "\n",
    "    plt.show()"
   ]
  },
  {
   "cell_type": "code",
   "execution_count": 5,
   "metadata": {},
   "outputs": [
    {
     "data": {
      "image/png": "[encoded data removed]",
      "text/plain": [
       "<Figure size 432x288 with 1 Axes>"
      ]
     },
     "metadata": {
      "needs_background": "light"
     },
     "output_type": "display_data"
    }
   ],
   "source": [
    "from sklearn.datasets import load_iris\n",
    "\n",
    "iris = load_iris()\n",
    "X, y = iris['data'], iris['target']\n",
    "\n",
    "learn(X, y,\n",
    "      NBC(feature_types=['r'] * 4, num_classes=3),\n",
    "      LogisticRegression(C=5, solver='liblinear', multi_class='ovr'))"
   ]
  },
  {
   "cell_type": "code",
   "execution_count": 6,
   "metadata": {},
   "outputs": [
    {
     "ename": "SyntaxError",
     "evalue": "unexpected EOF while parsing (<ipython-input-6-985cdd6a8c8d>, line 3)",
     "output_type": "error",
     "traceback": [
      "\u001b[0;36m  File \u001b[0;32m\"<ipython-input-6-985cdd6a8c8d>\"\u001b[0;36m, line \u001b[0;32m3\u001b[0m\n\u001b[0;31m    \u001b[0m\n\u001b[0m    ^\u001b[0m\n\u001b[0;31mSyntaxError\u001b[0m\u001b[0;31m:\u001b[0m unexpected EOF while parsing\n"
     ]
    }
   ],
   "source": [
    "for i in pi:\n",
    "    \n",
    "    "
   ]
  }
 ],
 "metadata": {
  "kernelspec": {
   "display_name": "Python 3",
   "language": "python",
   "name": "python3"
  },
  "language_info": {
   "codemirror_mode": {
    "name": "ipython",
    "version": 3
   },
   "file_extension": ".py",
   "mimetype": "text/x-python",
   "name": "python",
   "nbconvert_exporter": "python",
   "pygments_lexer": "ipython3",
   "version": "3.6.9"
  }
 },
 "nbformat": 4,
 "nbformat_minor": 2
}
